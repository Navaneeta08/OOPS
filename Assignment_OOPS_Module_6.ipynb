{
  "nbformat": 4,
  "nbformat_minor": 0,
  "metadata": {
    "colab": {
      "provenance": [],
      "collapsed_sections": [
        "TK1DjTUj-tR4"
      ]
    },
    "kernelspec": {
      "name": "python3",
      "display_name": "Python 3"
    },
    "language_info": {
      "name": "python"
    }
  },
  "cells": [
    {
      "cell_type": "markdown",
      "source": [
        "# **THEORY QUESTIONS**"
      ],
      "metadata": {
        "id": "tVq5vmA08qG0"
      }
    },
    {
      "cell_type": "markdown",
      "source": [
        "## **1. What is Object-Oriented Programming (OOP)?**"
      ],
      "metadata": {
        "id": "8T1HEnhx8qEs"
      }
    },
    {
      "cell_type": "markdown",
      "source": [
        "- **\"OOP\"** or **\"OBJECT ORIENTED PROGRAMMING\"** is a programming method focusing on the concept of \"objects\", which can contain both data(in the form of attributes/properties) and code(in the form of methods/functions).\n",
        "- Four main principles that defines OOPs Concept are:\n",
        "  1. Encapsulation: It involves bundling data(attributes) and the methods(functions) that operate on that data into a single unit or class.\n",
        "    - It hides the complex internal state of an object, allowing access only to public inteface.\n",
        "  2. Inheritance: It allows a child class or sub-class to inherit the properties and behaviour from an existing parent class or super class.\n",
        "    - This promotes code reusability.\n",
        "  3. Polymorphism: It allows objects of different classes to be treated as objects of a common superclass.\n",
        "    - This principle enables a single interface to be used for a general class of action.\n",
        "  4. Abstaction: It focuses on showing only the essential features of an object, hiding the complex implimentation details.\n",
        "    - Simplifies the user interaction with the object by providing a understandable interface."
      ],
      "metadata": {
        "id": "TLuvMBltByLL"
      }
    },
    {
      "cell_type": "markdown",
      "source": [
        "## **2. What is a class in OOP?**"
      ],
      "metadata": {
        "id": "vi7YFhyQ8qCV"
      }
    },
    {
      "cell_type": "markdown",
      "source": [
        "- A class in OOP is a blueprint or a template for creating objects. It defines the attributes(data) an methods(functions) that all objects of that class will possess.\n",
        "- It shows the common structure and behaviour of its objects.\n",
        "- When an object is created from a class, it is called as instance of that class.\n",
        "- Class Structure;\n",
        "  - 1. Attributes: They hold the state/characteristics of an object with the class.\n",
        "    - e.g; for a class 'car', attributes could be 'colour', 'model', 'price'.\n",
        "  - 2. Methods: Functions defined within the class representing the behaviours or actions an object can perform.\n",
        "    - e.g; for the class 'car', methods could be 'speed','milage kmph'. etc\n",
        "    - The methods can access and modify the object's attributes.\n",
        "\n",
        "- The main purpose of a class is to encapsulate data and function operating on that data into a single, cohesive unit, making code more organized and reusable.\n"
      ],
      "metadata": {
        "id": "ZS9I1mxYE_pV"
      }
    },
    {
      "cell_type": "markdown",
      "source": [
        "## **3. What is an object in OOP?**"
      ],
      "metadata": {
        "id": "qiVNKP9D8p_9"
      }
    },
    {
      "cell_type": "markdown",
      "source": [
        "- In OOP, an object is a fundamental unit represents a real world instance of a class.\n",
        "- A class is like a blueprint, and an object is a concrete version of that blueprint with actual data and the ability to perform actions.\n",
        "- Each object has its attributes/properties, that belongs to the object and methods/functions that define the behaviour of that object.\n",
        "- e.g; for class 'car', 'BMW' can be an object with its attributes 'black colour' and method being '220kmph'."
      ],
      "metadata": {
        "id": "x5vqVsI5Hejw"
      }
    },
    {
      "cell_type": "markdown",
      "source": [
        "## **4. What is the difference between abstraction and encapsulation?**"
      ],
      "metadata": {
        "id": "NFkhXMWl8p9d"
      }
    },
    {
      "cell_type": "code",
      "source": [
        "#                 ABSTRACTION               |          ENCAPSULATION\n",
        "# - Hiding the complex implementation       |  - Hiding the internal data of an\n",
        "#   details and showing only the essential  |    object from outside access.\n",
        "#   functionality features.                 |\n",
        "# - What an Object does                     |  - How the Object's data is protected.\n",
        "# - Manage Complexity by exposing           |  - To protect data and control access.\n",
        "#   only relevant data.                     |\n",
        "# - Using abstarct classes, interfaces, or  |  - Using private/protected attributes and\n",
        "#   methods.                                |    getters and setters.\n",
        "# - Reduce complexity, promote              |  - data hiding, providing access control\n",
        "#   maintainability, and also provid clear  |     and modularity.\n",
        "#   separation between the interface and    |\n",
        "#   its concrete implementation.            |\n",
        "# - Problems are solved at the design or    |  - Problems are solved at the\n",
        "#   interface level.                        |    implementation level.\n",
        "# - The objects that help to perform        |  - Whereas the objects that result\n",
        "#   abstarction are encapsulated.           |    in encapsulation need not be abstracted.\n",
        "# - Abstraction provides access to          |  - It hides data, preventing the users from\n",
        "#   specific part of data.                  |    directly accessing it.\n",
        "# - It Focuses on \"What\"the object does.    |  - It focuses on \"How\" the object does it.\n",
        "# - e.g; Car: Driving a car; not knowing    |  - e.g; Car: the engine parts are hidden\n",
        "#    how its engine works.                  |     inside the car's body."
      ],
      "metadata": {
        "id": "b7HbXEh_JhIF"
      },
      "execution_count": null,
      "outputs": []
    },
    {
      "cell_type": "markdown",
      "source": [
        "## **5. What are dunder methods in Python?**"
      ],
      "metadata": {
        "id": "dv-1n46_8p7M"
      }
    },
    {
      "cell_type": "markdown",
      "source": [
        "- In Python, Dunder methods(\"Doble Under\") are special/magical methods that allows to customize the behaviour of the objects, especially using buil-in functions and operators.\n",
        "- Begins and ends with double undescore(__method__).\n",
        "- Typically not called directly by the programmer but implicitly invoked by the python interpreter in response to specific operations, biult in functions.\n",
        "- Key Characteristics:\n",
        "  - **Operator Overloading:** defines how standard operators like +,-,*,/ behave when applied to instances of the customed classes.\n",
        "    - e.g; + operator : __add__\n",
        "  - **Built-in Integration:** enables objects to work seamlessly with buit-in python functions.\n",
        "    - e.g; len(): __len__, str(): __str__, repr(): __repr__, iter(): __iter__\n",
        "  - **Object Initialization and Deletion:** __init__ is used for initialization new instances of a class, while __del__ can be used for cleanup operations when an object is about to be deleted.\n",
        "  - **Attribute Access:** Dunder methods like __getattr__, __setattr__, and __delattr__ allow you to customize how attributes are accessed, set, and delete the objects.\n",
        "\n"
      ],
      "metadata": {
        "id": "HBl7-cQEhZrQ"
      }
    },
    {
      "cell_type": "markdown",
      "source": [
        "## **6. Explain the concept of inheritance in OOP.**"
      ],
      "metadata": {
        "id": "ASlz5b_V8p4t"
      }
    },
    {
      "cell_type": "markdown",
      "source": [
        "- Inheritance in OOP is afundamental concept that allows a child/sub class to inherit properties and behaviours of an existing parent/ super class.\n",
        "- Key Aspects:\n",
        "  - **Code Reusability:** It promotes code reusability by allowing common attributes and behaviours to be defined once under parent classes afterwards accessible to all child/sub classes.\n",
        "    - Reduces Redundancy and makes code more maintainable.\n",
        "  - **Extension and Specialization:** Child/sub classes can add their own attributes specific to them only.\n",
        "  - **POLYMORPHISM:** Enables objects of various classes to be considered as objects of the same type."
      ],
      "metadata": {
        "id": "aA5aFXR7oE0u"
      }
    },
    {
      "cell_type": "markdown",
      "source": [
        "## **7. What is polymorphism in OOP?**"
      ],
      "metadata": {
        "id": "l10VC8v-8p2E"
      }
    },
    {
      "cell_type": "markdown",
      "source": [
        "- Polymorphism is a concept in OOP that allows objects of different classes to be treated as of the same class through a common interface.\n",
        "- A single method can behave differently based on object's type promoting adaptibility, simplifying code maintainance.\n",
        "- Here a parent class object can be used to refer object in child class.\n",
        "- It defines the ability of an object to be able to take many forms in different instances.\n",
        "- It supports function overloading, function overriding."
      ],
      "metadata": {
        "id": "d5RZFYjv_CfN"
      }
    },
    {
      "cell_type": "markdown",
      "source": [
        "## **8. How is encapsulation achieved in Python?**"
      ],
      "metadata": {
        "id": "hKV25NK78pzd"
      }
    },
    {
      "cell_type": "markdown",
      "source": [
        "- Encapsulation in Python is achieved by restricting direct access to an object's data(attributes) and controlling it through naming conventions.\n",
        "- In python, intended visibility of an attribute ot=r method can be achieved through:\n",
        "  > a. Public(no Underscore): Attributes and methods with no leading underscore are considered as public.\n",
        "    - This is the default method in python, can be accessed from anywhere.\n",
        "\n",
        "  > b. Protected(Single Underscore): A single underscore before and after a method indicates that it is protected.\n",
        "    - These variables are intended to be accessed only within the class and its subclasses.\n",
        "    - It indicates that they are meant for internal use within its class and subclass, and should be avoid accessing directly from the outside of the class.\n",
        "\n",
        "  > c. Private(Double Underscore): Variables or methods that cann't be accessed directly from outside the class.\n",
        "    - They are used to restrict access and protect iternal data.\n",
        "    - Python applies name mangling by internally renaming them to  prevent direct access.\n",
        "\n",
        "> In Python, 'getter' and 'setter' methods are used to access and modify private attributes safe;y.\n",
        "  - They provide controlled access allowing to read data using a getter method and Update data using a setter method with optional validation or restriction."
      ],
      "metadata": {
        "id": "HG7hAdlEAzvW"
      }
    },
    {
      "cell_type": "markdown",
      "source": [
        "## **9. What is a constructor in Python?**"
      ],
      "metadata": {
        "id": "SxswLuv98pxF"
      }
    },
    {
      "cell_type": "markdown",
      "source": [
        "- In Python, a constructor is a special method within a class that is automatically invoked when a new object/instance in that class is created.\n",
        "- It primarily initialize the attributes of the object and perform any setup operations required for the object's initial state.\n",
        "- The main constructor method in Python us '__init__' ."
      ],
      "metadata": {
        "id": "IgjjuEphGjDI"
      }
    },
    {
      "cell_type": "markdown",
      "source": [
        "## **10. What are class and static methods in Python?**"
      ],
      "metadata": {
        "id": "Iijxt1qd8puU"
      }
    },
    {
      "cell_type": "markdown",
      "source": [
        "- In Python, besides regular instance methods, there are two special methods:\n",
        "  1. Class Methods\n",
        "  2. Static Methods\n",
        "\n",
        "1. **Class Method(@claamethod):** A method that is bound to the class itself, not to an instance of the class.\n",
        "  - It receives the class as the first arguemnent, conventionally name(cls).\n",
        "  - (cls) refers to the class inteself, not the instance.\n",
        "  - It is used in cases where it involves class as a whole, such as creating a new instance with a specific format.\n",
        "  - Defined using the @classmethod decorator.\n",
        "  - Can access and modify class-level data shared among all objects.\n",
        "\n",
        "2. **Static Methods(@staticmethod):** A method that belongs to a class but does not receive the class or an instances as its first arguement.\n",
        "  - It behaves like normal regular fucntion within the class.\n",
        "  - Don't have access to the class or instance state and are useful for utility functions that logically belong to the class but don't need any of its data.\n",
        "  - Defined using the @staticmethod decorator.\n",
        "  - It is bound to the class and not the object of the class.\n",
        "  - This method cann't access or modify the class state.\n"
      ],
      "metadata": {
        "id": "AjdqjFC-JynC"
      }
    },
    {
      "cell_type": "markdown",
      "source": [
        "## **11. What is method overloading in Python?**"
      ],
      "metadata": {
        "id": "zOWLK4ZO8prc"
      }
    },
    {
      "cell_type": "markdown",
      "source": [
        "- Method Overloading is a concept where multiple methods with the same name exist in the same class, but they differ by the number or types of parameter.\n",
        "- It allows a method to perform different tasks based on input arguements.\n",
        "- If multiple methods are defined with the same name in a class, only the last one will be shown, previous ones being overwritten.\n",
        "- Python does not support method overloading.\n",
        "- Instead of traditional overloading, Python uses 'args' and 'kwargs' to handle different numbers or types of arguements in a single method.\n"
      ],
      "metadata": {
        "id": "kUIbxQcqQi54"
      }
    },
    {
      "cell_type": "markdown",
      "source": [
        "## **12. What is method overriding in OOP?**"
      ],
      "metadata": {
        "id": "PhdSK0cZ8po9"
      }
    },
    {
      "cell_type": "markdown",
      "source": [
        "- Method Overriding in OOP allows child/sub class to provide a specific implementation of a method that is already defined in its parent/super classs.\n",
        "- The method in the child class must have the same name, same nos. of parameters, and same return type as the one in the parent class.\n",
        "- It supports polymorphism i.e., objects of different classes to be treated as objects of a common parent class while still executing its specific method implementation.\n",
        "- The child/sub class's method provides a more specialized version of the parent's method.\n",
        "- When a method is called on an object, the program first looks for that method in the object's own class. If it finds it, it executes that version otherwise searches in the inherited classes.\n",
        "- It is used to change or extend the behaviour of the parent class method.\n",
        "- Allows child/sub classes to customize or completely replace the behaviour of methods defined in a parent class.\n"
      ],
      "metadata": {
        "id": "coHwYbUXu5oP"
      }
    },
    {
      "cell_type": "markdown",
      "source": [
        "## **13. What is a property decorator in Python?**"
      ],
      "metadata": {
        "id": "58UmnVvv8pl-"
      }
    },
    {
      "cell_type": "markdown",
      "source": [
        "- A property decorator is used in Python to define getter and setter methods that can access like attributes; allowing controlled access to class attributes while still using dot(.).\n",
        "- It converts a method into a read-only property.\n",
        "- Helps implimenting encapsulation.\n",
        "- useful for computed or derived attributes.\n",
        "- Ensures that an attribute is set to a valid value."
      ],
      "metadata": {
        "id": "aNGFmBf5xPTr"
      }
    },
    {
      "cell_type": "markdown",
      "source": [
        "## **14. Why is polymorphism important in OOP?**"
      ],
      "metadata": {
        "id": "Kond11bV8ph2"
      }
    },
    {
      "cell_type": "markdown",
      "source": [
        "- Polymorphism allows objects of different classes to be treated as objects of a common superclass. It enables a single interface to represent multiple underlying forms(data types).\n",
        "- It allows developers to write more flexible, maintaible, and reusable code.\n",
        "- **Importance:**\n",
        "  1. Code Reusability and Extensibility: It enhances code reuse by enabling generic code for various object types, reducing reductant code and simplifying system extension.\n",
        "    - It allows adding a new child/sub class without altering existing code.\n",
        "  2. Flexibility and Maintainability: It allows code decoupling from specific implementations, making it more flexible and easier to maintain.\n",
        "  3. Clean and readable Code: It simplifies code by simplifying it by abstracting complex details and focusing on high level logic, making it easier to read, understand, and debug."
      ],
      "metadata": {
        "id": "_P7vKhC4ymPv"
      }
    },
    {
      "cell_type": "markdown",
      "source": [
        "## **15. What is an abstract class in Python?**"
      ],
      "metadata": {
        "id": "lggM8fgu99fx"
      }
    },
    {
      "cell_type": "markdown",
      "source": [
        "- An abstract class in Python is a class that cann't be instatinated on its own and is meant to be inherited by other classes. It is used to define a common interface or blueprint for its subclasses.\n",
        "- It contains one or more abstract methods, which are methods declared but not implemented.\n",
        "- Enforces a contact that subclasses must implement the abstract methods.\n",
        "- Defined using the [abc: Abstract Base Classes] module.\n",
        "- Uses the @abstractmethod decorator to define abstract methods.\n"
      ],
      "metadata": {
        "id": "KoVLAS3p28Kf"
      }
    },
    {
      "cell_type": "markdown",
      "source": [
        "## **16. What are the advantages of OOP?**"
      ],
      "metadata": {
        "id": "slDGFi2m-CNo"
      }
    },
    {
      "cell_type": "markdown",
      "source": [
        "**Advantages of OOP:**\n",
        "1. **Improved Modularity:**\n",
        "  - It promotes modularity by breaking down a large system into smaller, self-contained units called objects.\n",
        "  - Each object handles a specific piece of functionality, making the overall codebase easier to understand, debug, and maintain.\n",
        "  - Code is organised into classes, making it easier to manage.\n",
        "  - Each class is like a self-contained unit with its own data and methods.\n",
        "\n",
        "2. **Reusability:**\n",
        "  - New classes can inherit and extend the functionality of existing ones, reducing redundant code and saving development time.\n",
        "3. **Encapsulation:**\n",
        "  - Attributes and methods are bundled together.\n",
        "  - Internal details are hidden from the outside using access modifiers(Private, Protected).\n",
        "4. **Polymorphism:**\n",
        "  - It allows a single interface to be used for different types of objects.\n",
        "  - More generic and flexible codes can be written which can handle various object types with out using complex conditional logic.\n",
        "  - It enhances the productivity specilly while handeling large data.\n",
        "5. **Abstraction:**\n",
        "  - Focouses on what an object can do not how it does it.\n",
        "  - Hides unnecessary details from the user.\n",
        "6. **Easier Maintainance:**\n",
        "  - Easier to scale and update.\n",
        "  - Classes can be modified and extended without affecting other parts of the system."
      ],
      "metadata": {
        "id": "c93ZuMiR4BBc"
      }
    },
    {
      "cell_type": "markdown",
      "source": [
        "## **17. What is the difference between a class variable and an instance variable?**"
      ],
      "metadata": {
        "id": "t_nc1Q4T-HYY"
      }
    },
    {
      "cell_type": "markdown",
      "source": [
        "- The primary distinction between a class variable and an instance variable lies in their scope and how they are shared among objects of a class.\n",
        "\n",
        "> **Class Variable:**\n",
        "  - These are shared by all instances of a class.\n",
        "  - Defined within the class but outside of any method.\n",
        "  - Owned by the class itself and are typically used to store data that is common to all objects of that class.\n",
        "\n",
        "> **Instance Variable:**\n",
        "  - Instance variables are unique to each instance of a class.\n",
        "  - Defined within the method; usually by the __init__ constructor.\n",
        "  -Used to store data specific to that particular object."
      ],
      "metadata": {
        "id": "jVWsInbEDoTZ"
      }
    },
    {
      "cell_type": "markdown",
      "source": [
        "## **18. What is multiple inheritance in Python?**"
      ],
      "metadata": {
        "id": "8ycmIb1b-MeI"
      }
    },
    {
      "cell_type": "markdown",
      "source": [
        "- Multiple inheritance in Python allows a class to inherit attributes and methods from more than one parent (or base) class.\n",
        "- A single child/sub class can combine the functionalities and characteristics of several distinct parent classes.\n",
        "- It can lead to ambiguity if parent classes have methods with the same name. Python handles this using the Method Resolution Order(MRO)."
      ],
      "metadata": {
        "id": "5IyT2iJ5FX6O"
      }
    },
    {
      "cell_type": "markdown",
      "source": [
        "## **19. Explain the purpose of \"__str__\" and \"__repr__\" methods in Python.**"
      ],
      "metadata": {
        "id": "K3ZDTBca-PpI"
      }
    },
    {
      "cell_type": "markdown",
      "source": [
        "- Both \"str\" and \"repr\" method represents the dunder method/special method/magic method used to define how an object should be represented as a string.\n",
        "\n",
        "> **\"str\" method:(__str__)**\n",
        "  - Provides a user readable string representation of an object. It is designed for end-user display.\n",
        "  - Designed For concise, readable description of the object.\n",
        "  - Called by print(), str() functions.\n",
        "  - Called when implicitily an object is converted to a string for display.\n",
        "\n",
        "> **\"repr\" method:(__repr__)**\n",
        "  - Provides an unambiguous, developer-friendly ofteg reconstructive string representation of an object.\n",
        "  - Designed for debugging, logging, and developement.\n",
        "  - called by repr() built in function.\n",
        "  - If __str__ is not defined, print() will fall back to usnig __repr__ .\n",
        "\n",
        "\n",
        "- It is generally recomended to implement __repr__ for all custom classes, as its crucial for debugging."
      ],
      "metadata": {
        "id": "GRl6oA0LGfju"
      }
    },
    {
      "cell_type": "markdown",
      "source": [
        "## **20. What is the significance of the ‘super()’ function in Python?**"
      ],
      "metadata": {
        "id": "-xig2qqx-UD4"
      }
    },
    {
      "cell_type": "markdown",
      "source": [
        "- The \"super()\" function hold a significant importance in the concept of Inheritance.\n",
        "- It provides a mechanism to access methods and attributes of a parent or superclass from a child/sub class.\n",
        "- It allows a subclass to call methods defined in its parent class, including the __init__ constructor, without explicitly naming the parent class. It is crucial for initializing inherited attributes and reusing parent class logic.\n",
        "- By using super(), a child class can access the functionality of its parent class, reducing code duplication and making the code easier to mainatain.\n",
        "- Even if the parent class name changes, the super() call remains valid, promoting flexibility.\n",
        "- In case of multiple inheritance, it plays a key role in navigating the MRO (Method Resolution Order)correctly. It ensures that methods are called in the proper sequence according to the MRO, preventing unexpected behaviour and ensuring all necessary parent class methods are invoked.\n",
        "- It helps in creating more robust and compatible code. Means if the inheritance hierarchy changes or new classes are addded between a parent and child, super() automatically adapts to call the correct next method in the MRO, minimizing the need for code modifications.\n",
        "- super() is fundamental for building well-structured and maintainable class hierarchies in Python, essentially in complex inheritance scenarios, by providing a flexible and realiable way to interact with parent class functionally.\n"
      ],
      "metadata": {
        "id": "Zlo0rqLGI9XH"
      }
    },
    {
      "cell_type": "markdown",
      "source": [
        "## **21. What is the significance of the __del__ method in Python?**"
      ],
      "metadata": {
        "id": "vMqBkA2W-ZFo"
      }
    },
    {
      "cell_type": "markdown",
      "source": [
        "- The del method in python is a special method that is used when an object is deleted/erased from the memory.\n",
        "- It has significance role in performing cleanup operations before an object is permanently removed from memory.\n",
        "- Acts as deconstructor to perform cleanup actions when an object is about to be garbage collected.\n"
      ],
      "metadata": {
        "id": "AMIWqEimLjqH"
      }
    },
    {
      "cell_type": "markdown",
      "source": [
        "## **22. What is the difference between @staticmethod and @classmethod in Python?**"
      ],
      "metadata": {
        "id": "UULlxwxW-ca4"
      }
    },
    {
      "cell_type": "markdown",
      "source": [
        "- The main difference between @staticmethod and @classmethod in python is that they differ in their first arguements and how they are bound to class.\n",
        "\n",
        "> @classmethod: It is used for methods that are bound to class and receive the class itself as the first arguements(cls). It can access and modify class level data shared among all objects of the class. They are often used for factory methods that create instances of class in different ways.\n",
        "\n",
        "> @staticmethod: It used for methods that are not bound to either the class or an instance of the class. They do not receive a special first arguements like (self) or (cls). It behaves like regular functions but are logically grouped within a class because they relate to the class's functionallity. They cann't access or modify the class/ instance state.\n",
        "\n",
        "- @classmethods are used when it is needed to access or modify class level attributes or create alternative constructors for the class.\n",
        "- @staticmethod are used when a logical connection is built to class but it doesn't needed to access any class or instance specific data. Its essentially a regular function placed within the clas's namespace."
      ],
      "metadata": {
        "id": "Yz0NcTG_M4Ac"
      }
    },
    {
      "cell_type": "markdown",
      "source": [
        "## **23. How does polymorphism work in Python with inheritance?**"
      ],
      "metadata": {
        "id": "2kdXRBF8-gyw"
      }
    },
    {
      "cell_type": "markdown",
      "source": [
        "- Polymorphism in Python, particularly in conjuction with inheritance, allows objects of different classes to be treated as objects of a common type.\n",
        "- This is achieved primarily through method overriding.\n",
        "  - **Inheritance:** Methods defined by the parent/super classes are inherited by the child/sub classes.\n",
        "  - **Method Overriding:** A child class can override parent class as it can provide its own specific implementation for a method that is inherited from its parent class.\n",
        "  - **Dynamic Binding:** When a method is called on an object; Python determines which implememtation of that method to use at runtime based on the actual type of the object, not just the type of the variable holding the object.\n",
        "    - If the object's class has overridden the method, that overridden version is executed. Otherwise, the inherited method from the parent class is used."
      ],
      "metadata": {
        "id": "vzN9PRF6O49F"
      }
    },
    {
      "cell_type": "markdown",
      "source": [
        "## **24. What is method chaining in Python OOP?**"
      ],
      "metadata": {
        "id": "eIbTGD-q-j1H"
      }
    },
    {
      "cell_type": "markdown",
      "source": [
        "- Method chaining in python allows multiple method calls to be linked together on a single object.\n",
        "- This creates a sequence of operations that are executed one after the other, with each method in chain returning the object itself to allow the next method to be called.\n",
        "- It is achieved by having each method in the chain retrn the object itself(typically self) after performing its action.\n",
        "\n",
        "> **Key Principles and Benefits:**\n",
        "  1. Returning Self:\n",
        "    - Method chaining requires each method to return the instance of the object called, enabling the next method to be invoked directly on the returned object.\n",
        "  2. Conciseness and Readability:\n",
        "    -  Method chaining enhances code brevity and readability by eliminating intermediate variables and promoting a fluent, pipeline-like syntax that clearly outlines a sequence of operations on a single object.\n",
        "  3. Reduced Variabl Clutter:\n",
        "    - By avoiding intermediate variables, method changing reduces the overall number of variables in a program, potentially simplifying the code and reducing memory usage.\n",
        "  4. Enhanced Expressiveness:\n",
        "    - This pattern is particularly useful in scenarios where an object undergoes multiple transformations or configurations, like data processing pipelines or object initialization."
      ],
      "metadata": {
        "id": "VgTzDaT6RUTy"
      }
    },
    {
      "cell_type": "markdown",
      "source": [
        "## **25. What is the purpose of the __call__ method in Python?**"
      ],
      "metadata": {
        "id": "R6mqv9mz-n1A"
      }
    },
    {
      "cell_type": "markdown",
      "source": [
        "- The purpose of __call__ method is to make instances of a class callable i.e, they can be invoked like functions using paranthesis.\n",
        "- When the __call__ method is defined within a class after creating a object/instance of that class, it can be directlly called.\n",
        " >**Key Aspects:**\n",
        "  - Callable Objects:\n",
        "    - It allows objects to behave like functions, enabling a more functional programming style within an object-oriented context.\n",
        "  - Function Factories:\n",
        "    - It can be used to create objects that generate or configure functions based on certain parameters or internal state.\n",
        "  - Decorators:\n",
        "    - It is commonly used in implementing class-based decorators where the decorator itself is an object that wraps and modifies the behaviour of other functions or methods.\n",
        "  - Encapsulation and State:\n",
        "    - Callable objects can maintain internal state(attributes) betwen calls, providing a way to encapsulate functionality and data together.\n",
        "  - Cleaner Code:\n",
        "    - Particularly in scenarios like frameworks or libraries, callable object usage can lead to more concise and readable code compared to other alternative approaches."
      ],
      "metadata": {
        "id": "qDIMScRXTISP"
      }
    },
    {
      "cell_type": "markdown",
      "source": [
        "# **PRACTICAL QUESTION**"
      ],
      "metadata": {
        "id": "TK1DjTUj-tR4"
      }
    },
    {
      "cell_type": "markdown",
      "source": [
        "## **1. Create a parent class Animal with a method speak() that prints a generic message. Create a child class Dog that overrides the speak() method to print \"Bark!\".**"
      ],
      "metadata": {
        "id": "bG-23Rv_-yLn"
      }
    },
    {
      "cell_type": "code",
      "source": [
        "class Animal:\n",
        "  def speak(self):\n",
        "    print(\"The Animal makes a sound\")\n",
        "\n",
        "class Dog(Animal):\n",
        "  def speak(self):\n",
        "    print(\"Bark!\")\n",
        "\n",
        "gen_anm=Animal()\n",
        "dog_anm=Dog()\n",
        "\n",
        "gen_anm.speak()\n",
        "dog_anm.speak()"
      ],
      "metadata": {
        "colab": {
          "base_uri": "https://localhost:8080/"
        },
        "id": "yxKp6MYbTqKL",
        "outputId": "778ea558-8b9a-4e50-f875-16a8e32881b4"
      },
      "execution_count": null,
      "outputs": [
        {
          "output_type": "stream",
          "name": "stdout",
          "text": [
            "The Animal makes a sound\n",
            "Bark!\n"
          ]
        }
      ]
    },
    {
      "cell_type": "markdown",
      "source": [
        "## **2. Write a program to create an abstract class Shape with a method area(). Derive classes Circle and Rectangle from it and implement the area() method in both.**"
      ],
      "metadata": {
        "id": "-5uhQik2-7lv"
      }
    },
    {
      "cell_type": "code",
      "source": [
        "from abc import ABC, abstractmethod\n",
        "\n",
        "class Shape(ABC):\n",
        "  @abstractmethod\n",
        "  def area(self):\n",
        "    pass\n",
        "\n",
        "# Circle:\n",
        "class Circle(Shape):\n",
        "  def __init__(self, radius):\n",
        "    self.radius=radius\n",
        "\n",
        "  def area(self):\n",
        "    return 3.14*self.radius*self.radius\n",
        "\n",
        "# Rectangle:\n",
        "\n",
        "class Rectangle(Shape):\n",
        "  def __init__(self, length, width):\n",
        "    self.length=length\n",
        "    self.width=width\n",
        "\n",
        "  def area(self):\n",
        "    return self.length*self.width\n",
        "\n",
        "circle_area=Circle(5)\n",
        "rectangle_area=Rectangle(5,4)\n",
        "\n",
        "print(circle_area.area())\n",
        "print(rectangle_area.area())"
      ],
      "metadata": {
        "colab": {
          "base_uri": "https://localhost:8080/"
        },
        "id": "nOLoesuIUNV_",
        "outputId": "b8e5f2cf-732c-4563-d6db-323877e21b1b"
      },
      "execution_count": null,
      "outputs": [
        {
          "output_type": "stream",
          "name": "stdout",
          "text": [
            "78.5\n",
            "20\n"
          ]
        }
      ]
    },
    {
      "cell_type": "markdown",
      "source": [
        "## **3. Implement a multi-level inheritance scenario where a class Vehicle has an attribute type. Derive a class Car and further derive a class ElectricCar that adds a battery attribute.**"
      ],
      "metadata": {
        "id": "_cK4zisD_AaP"
      }
    },
    {
      "cell_type": "code",
      "source": [
        "class Vehicle:\n",
        "  def __init__(self, type):\n",
        "    self.type=type\n",
        "\n",
        "class Car(Vehicle):\n",
        "  def __init__(self, type, model):\n",
        "    super().__init__(type)\n",
        "    self.model=model\n",
        "\n",
        "class ElectricCar(Car):\n",
        "  def __init__(self, type, model, battery):\n",
        "    super().__init__(type, model)\n",
        "    self.battery=battery\n",
        "\n",
        "  def display_info(self):\n",
        "    print(f\"Type: {self.type}\")\n",
        "    print(f\"Model: {self.model}\")\n",
        "    print(f\"Battery: {self.battery}\")\n",
        "\n",
        "e_car=ElectricCar(\"Electric\", \"Tesla\", \"100kWh\")\n",
        "e_car.display_info()"
      ],
      "metadata": {
        "colab": {
          "base_uri": "https://localhost:8080/"
        },
        "id": "WLRGz8iCU506",
        "outputId": "0273fe21-f5ab-45ac-caae-749920b1edcb"
      },
      "execution_count": null,
      "outputs": [
        {
          "output_type": "stream",
          "name": "stdout",
          "text": [
            "Type: Electric\n",
            "Model: Tesla\n",
            "Battery: 100kWh\n"
          ]
        }
      ]
    },
    {
      "cell_type": "markdown",
      "source": [
        "## **4. Demonstrate polymorphism by creating a base class Bird with a method fly(). Create two derived classes Sparrow and Penguin that override the fly() method.**"
      ],
      "metadata": {
        "id": "TOuhRWPG_FIP"
      }
    },
    {
      "cell_type": "code",
      "source": [
        "class Bird:\n",
        "  def fly(self):\n",
        "    print(\"Birds can fly\")\n",
        "\n",
        "class Sparrow(Bird):\n",
        "  def fly(self):\n",
        "    print(\"Sparrows can fly\")\n",
        "\n",
        "class Penguin(Bird):\n",
        "  def fly(self):\n",
        "    print(\"Penguins can't fly\")\n",
        "\n",
        "  def bird_fly_test(bird):\n",
        "    bird.fly()\n",
        "\n",
        "sparrow=Sparrow()\n",
        "penguin=Penguin()\n",
        "\n",
        "bird_fly_test(sparrow)\n",
        "bird_fly_test(penguin)"
      ],
      "metadata": {
        "colab": {
          "base_uri": "https://localhost:8080/"
        },
        "id": "vFYdJwOgW4qq",
        "outputId": "4d6d7fcb-10db-455d-a324-f3d983a60cd8"
      },
      "execution_count": null,
      "outputs": [
        {
          "output_type": "stream",
          "name": "stdout",
          "text": [
            "Sparrows can fly\n",
            "Penguins can't fly\n"
          ]
        }
      ]
    },
    {
      "cell_type": "markdown",
      "source": [
        "## **5. Write a program to demonstrate encapsulation by creating a class BankAccount with private attributes balance and methods to deposit, withdraw, and check balance.**"
      ],
      "metadata": {
        "id": "MbsR0VfR_JJu"
      }
    },
    {
      "cell_type": "code",
      "source": [
        "class BankAccount:\n",
        "  def __init__(self,initial_balance=0):\n",
        "    self.__balance=initial_balance\n",
        "\n",
        "  def deposit(self, amount):\n",
        "    if amount>0:\n",
        "      self.__balance+=amount\n",
        "      print(f\"Deposited: {amount}. New Balance:{self.__balance}\")\n",
        "    else:\n",
        "      print(\"Invalid deposit amount\")\n",
        "\n",
        "  def withdraw(self, amount):\n",
        "    if 0<amount<=self.__balance:\n",
        "      self.__balance-=amount\n",
        "      print(f\"Withdrew: {amount}. New Balance:{self.__balance}\")\n",
        "    elif amount>self.__balance:\n",
        "      print(\"Insufficient funds\")\n",
        "    else:\n",
        "      print(\"Invalid withdrawal amount\")\n",
        "\n",
        "  def get_balance(self):\n",
        "    return self.__balance\n",
        "\n",
        "account=BankAccount(1000)\n",
        "account.deposit(500)\n",
        "account.withdraw(200)\n",
        "print(f\"Current Balance: {account.get_balance()}\")"
      ],
      "metadata": {
        "colab": {
          "base_uri": "https://localhost:8080/"
        },
        "id": "EJ6uzQ90X4uo",
        "outputId": "161c7a98-708a-4637-8052-a1453d2e2c8a"
      },
      "execution_count": null,
      "outputs": [
        {
          "output_type": "stream",
          "name": "stdout",
          "text": [
            "Deposited: 500. New Balance:1500\n",
            "Withdrew: 200. New Balance:1300\n",
            "Current Balance: 1300\n"
          ]
        }
      ]
    },
    {
      "cell_type": "markdown",
      "source": [
        "## **6. Demonstrate runtime polymorphism using a method play() in a base class Instrument. Derive classes Guitar and Piano that implement their own version of play().**"
      ],
      "metadata": {
        "id": "ALnmd2OV_M_n"
      }
    },
    {
      "cell_type": "code",
      "source": [
        "class Instrument:\n",
        "  def play(self):\n",
        "    print(\"Instrument is playing\")\n",
        "\n",
        "class Guitar(Instrument):\n",
        "  def play(self):\n",
        "    print(\"Guitar is playing\")\n",
        "\n",
        "class Piano(Instrument):\n",
        "  def play(self):\n",
        "    print(\"Piano is playing\")\n",
        "\n",
        "def instrument_play_test(instrument):\n",
        "    instrument.play()\n",
        "\n",
        "guitar=Guitar()\n",
        "piano=Piano()\n",
        "\n",
        "instrument_play_test(guitar)\n",
        "instrument_play_test(piano)"
      ],
      "metadata": {
        "colab": {
          "base_uri": "https://localhost:8080/"
        },
        "id": "EEuLA1o3ZChv",
        "outputId": "bd5692bb-f4e0-4c17-8c81-8ab2ef94f8ca"
      },
      "execution_count": null,
      "outputs": [
        {
          "output_type": "stream",
          "name": "stdout",
          "text": [
            "Guitar is playing\n",
            "Piano is playing\n"
          ]
        }
      ]
    },
    {
      "cell_type": "markdown",
      "source": [
        "## **7. Create a class MathOperations with a class method add_numbers() to add two numbers and a static method subtract_numbers() to subtract two numbers.**"
      ],
      "metadata": {
        "id": "OEbfj0n7_SO2"
      }
    },
    {
      "cell_type": "code",
      "source": [
        "class MathOperations:\n",
        "  @classmethod\n",
        "  def add_numbers(cls, a, b):\n",
        "    return a+b\n",
        "\n",
        "  @staticmethod\n",
        "  def subtract_numbers(a, b):\n",
        "    return a-b\n",
        "\n",
        "add_result=MathOperations.add_numbers(5,3)\n",
        "subtract_result=MathOperations.subtract_numbers(10,4)\n",
        "\n",
        "print(f\"Sum:{add_result}\")\n",
        "print(f\"Substraction:{subtract_result}\")"
      ],
      "metadata": {
        "colab": {
          "base_uri": "https://localhost:8080/"
        },
        "id": "u-4NThuuZggm",
        "outputId": "d5fb8288-5b8a-403a-d95b-edef57c5f98a"
      },
      "execution_count": null,
      "outputs": [
        {
          "output_type": "stream",
          "name": "stdout",
          "text": [
            "Sum:8\n",
            "Substraction:6\n"
          ]
        }
      ]
    },
    {
      "cell_type": "markdown",
      "source": [
        "## **8. Implement a class Person with a class method to count the total number of persons created.**"
      ],
      "metadata": {
        "id": "4kKQx4HW_XeG"
      }
    },
    {
      "cell_type": "code",
      "source": [
        "class Person:\n",
        "  count=0\n",
        "\n",
        "  def __init__(self, name, age):\n",
        "    self.name=name\n",
        "    self.age=age\n",
        "    Person.count+=1\n",
        "\n",
        "  @classmethod\n",
        "  def total_persons(cls):\n",
        "    return cls.count\n",
        "\n",
        "p1=Person(\"Navi\",25)\n",
        "p2=Person(\"Kavi\",24)\n",
        "p3=Person(\"Savi\",20)\n",
        "\n",
        "print(f\"Total persons Created:{Person.total_persons()}\")"
      ],
      "metadata": {
        "colab": {
          "base_uri": "https://localhost:8080/"
        },
        "id": "d0o8lxsBZwsE",
        "outputId": "cfe1777c-1a1e-4dcb-9330-17e49898fd60"
      },
      "execution_count": null,
      "outputs": [
        {
          "output_type": "stream",
          "name": "stdout",
          "text": [
            "Total persons Created:3\n"
          ]
        }
      ]
    },
    {
      "cell_type": "markdown",
      "source": [
        "## **9. Write a class Fraction with attributes numerator and denominator. Override the str method to display the fraction as \"numerator/denominator\".**"
      ],
      "metadata": {
        "id": "lp_7YIVn_auG"
      }
    },
    {
      "cell_type": "code",
      "source": [
        "class Fraction:\n",
        "  def __init__(self, numerator, denominator):\n",
        "    self.numerator=numerator\n",
        "    self.denominator=denominator\n",
        "\n",
        "  def __str__(self):\n",
        "    return f\"{self.numerator}/{self.denominator}\"\n",
        "\n",
        "f1=Fraction(3,4)\n",
        "print(f1)"
      ],
      "metadata": {
        "colab": {
          "base_uri": "https://localhost:8080/"
        },
        "id": "hQVdcLMiavfm",
        "outputId": "5227f194-e44f-47b3-9993-ac4121be0a7c"
      },
      "execution_count": null,
      "outputs": [
        {
          "output_type": "stream",
          "name": "stdout",
          "text": [
            "3/4\n"
          ]
        }
      ]
    },
    {
      "cell_type": "markdown",
      "source": [
        "## **10. Demonstrate operator overloading by creating a class Vector and overriding the add method to add two vectors.**"
      ],
      "metadata": {
        "id": "QuvV-NLL_fLn"
      }
    },
    {
      "cell_type": "code",
      "source": [
        "class Vector:\n",
        "  def __init__(self, x, y):\n",
        "    self.x=x\n",
        "    self.y=y\n",
        "\n",
        "  def __add__(self, other):\n",
        "    return Vector(self.x+other.x, self.y+other.y)\n",
        "\n",
        "  def __str__(self):\n",
        "    return f\"({self.x}, {self.y})\"\n",
        "\n",
        "v1=Vector(40,20)\n",
        "v2=Vector(3,4)\n",
        "\n",
        "result=v1+v2\n",
        "print(result)"
      ],
      "metadata": {
        "colab": {
          "base_uri": "https://localhost:8080/"
        },
        "id": "CHUxbRxVbFIG",
        "outputId": "718252a7-6ad7-406c-8c22-a56d4aa48a20"
      },
      "execution_count": null,
      "outputs": [
        {
          "output_type": "stream",
          "name": "stdout",
          "text": [
            "(43, 24)\n"
          ]
        }
      ]
    },
    {
      "cell_type": "markdown",
      "source": [
        "## **11. Create a class Person with attributes name and age. Add a method greet() that prints \"Hello, my name is {name} and I am {age} years old.\"**"
      ],
      "metadata": {
        "id": "wTBLCQOc_j6O"
      }
    },
    {
      "cell_type": "code",
      "source": [
        "class Person:\n",
        "  def __init__(self, name, age):\n",
        "    self.name=name\n",
        "    self.age=age\n",
        "\n",
        "  def greet(self):\n",
        "    print(f\"Hello, my name is {self.name} and I am {self.age} years old.\")\n",
        "\n",
        "p1=Person(\"Navi\",25)\n",
        "p1.greet()"
      ],
      "metadata": {
        "colab": {
          "base_uri": "https://localhost:8080/"
        },
        "id": "ZNjZXkOkb9K8",
        "outputId": "9f91ff4a-2a3f-4813-dde4-84b47fb8116b"
      },
      "execution_count": null,
      "outputs": [
        {
          "output_type": "stream",
          "name": "stdout",
          "text": [
            "Hello, my name is Navi and I am 25 years old.\n"
          ]
        }
      ]
    },
    {
      "cell_type": "markdown",
      "source": [
        "## **12. Implement a class Student with attributes name and grades. Create a method average_grade() to compute the average of the grades.**"
      ],
      "metadata": {
        "id": "sB9ogSjA_qP9"
      }
    },
    {
      "cell_type": "code",
      "source": [
        "class Student:\n",
        "  def __init__(self, name, grades):\n",
        "    self.name=name\n",
        "    self.grades=grades\n",
        "\n",
        "  def average_grade(self):\n",
        "    if len(self.grades)==0:\n",
        "      return 0\n",
        "    return sum(self.grades)/len(self.grades)\n",
        "\n",
        "  def display_info(self):\n",
        "    print(f\"Name: {self.name}\")\n",
        "    print(f\"Grades: {self.grades}\")\n",
        "    print(f\"{s1.name}'s average grade: {s1.average_grade()}\")\n",
        "\n",
        "s1=Student(\"Navi\",[90,85,95])\n",
        "s1.display_info()\n",
        "\n"
      ],
      "metadata": {
        "colab": {
          "base_uri": "https://localhost:8080/"
        },
        "id": "dibIepmzcUzS",
        "outputId": "0276e763-3e58-48d1-ee6b-1d4dc215d84d"
      },
      "execution_count": null,
      "outputs": [
        {
          "output_type": "stream",
          "name": "stdout",
          "text": [
            "Name: Navi\n",
            "Grades: [90, 85, 95]\n",
            "Navi's average grade: 90.0\n"
          ]
        }
      ]
    },
    {
      "cell_type": "markdown",
      "source": [
        "## **13. Create a class Rectangle with methods set_dimensions() to set the dimensions and area() to calculate the area.**"
      ],
      "metadata": {
        "id": "ljXzWsPH_umN"
      }
    },
    {
      "cell_type": "code",
      "source": [
        "class Reactangle:\n",
        "  def __init__(self, length=0, width=0):\n",
        "    self.length=length\n",
        "    self.width=width\n",
        "\n",
        "  def set_dimensions(self, length, width):\n",
        "    self.length=length\n",
        "    self.width=width\n",
        "\n",
        "  def area(self):\n",
        "    return self.length*self.width\n",
        "\n",
        "r1=Reactangle()\n",
        "r1.set_dimensions(5,4)\n",
        "print(f\"Dimension:{r1.length}*{r1.width}\")\n",
        "print(f\"Area of Rectangle:{r1.area()}\")"
      ],
      "metadata": {
        "colab": {
          "base_uri": "https://localhost:8080/"
        },
        "id": "2-AurNcyc-PY",
        "outputId": "f5dcaa6e-59bf-4c45-f5a8-ec240826fa3c"
      },
      "execution_count": null,
      "outputs": [
        {
          "output_type": "stream",
          "name": "stdout",
          "text": [
            "Dimension:5*4\n",
            "Area of Rectangle:20\n"
          ]
        }
      ]
    },
    {
      "cell_type": "markdown",
      "source": [
        "## **14. Create a class Employee with a method calculate_salary() that computes the salary based on hours worked and hourly rate. Create a derived class Manager that adds a bonus to the salary.**"
      ],
      "metadata": {
        "id": "EXzqvo5p_0hF"
      }
    },
    {
      "cell_type": "code",
      "source": [
        "class Employee:\n",
        "  def __init__(self, name, hours_worked, hourly_rate):\n",
        "    self.name=name\n",
        "    self.hours_worked=hours_worked\n",
        "    self.hourly_rate=hourly_rate\n",
        "\n",
        "  def calculate_salary(self):\n",
        "    return self.hours_worked*self.hourly_rate\n",
        "\n",
        "class Manager(Employee):\n",
        "  def __init__(self, name, hours_worked, hourly_rate, bonus):\n",
        "    super().__init__(name, hours_worked, hourly_rate)\n",
        "    self.bonus=bonus\n",
        "\n",
        "  def calculate_salary(self):\n",
        "    base_salary=super().calculate_salary()\n",
        "    return base_salary+self.bonus\n",
        "\n",
        "emp=Employee(\"Navi\", 40, 50)\n",
        "print(f\"{emp.name}'s salary:{emp.calculate_salary()}\")"
      ],
      "metadata": {
        "colab": {
          "base_uri": "https://localhost:8080/"
        },
        "id": "Gjd_Hx6Fd2b3",
        "outputId": "b09a337f-7ae5-4965-c55e-a1e9ebe7a7d2"
      },
      "execution_count": null,
      "outputs": [
        {
          "output_type": "stream",
          "name": "stdout",
          "text": [
            "Navi's salary:2000\n"
          ]
        }
      ]
    },
    {
      "cell_type": "markdown",
      "source": [
        "## **15. Create a class Product with attributes name, price, and quantity. Implement a method total_price() that calculates the total price of the product.**"
      ],
      "metadata": {
        "id": "ObP9EbLu_5El"
      }
    },
    {
      "cell_type": "code",
      "source": [
        "class Product:\n",
        "  def __init__(self, name, price, quantity):\n",
        "    self.name=name\n",
        "    self.price=price\n",
        "    self.quantity=quantity\n",
        "\n",
        "  def total_price(self):\n",
        "    return self.price*self.quantity\n",
        "\n",
        "p1=Product(\"Laptop\", 1000, 2)\n",
        "print(f\"Total Price of {p1.name}:{p1.total_price()}\")"
      ],
      "metadata": {
        "colab": {
          "base_uri": "https://localhost:8080/"
        },
        "id": "xc9IGLAGeOju",
        "outputId": "73cf0167-a2c4-4e8f-edd4-8f3b64b4c172"
      },
      "execution_count": null,
      "outputs": [
        {
          "output_type": "stream",
          "name": "stdout",
          "text": [
            "Total Price of Laptop:2000\n"
          ]
        }
      ]
    },
    {
      "cell_type": "markdown",
      "source": [
        "## **16. Create a class Animal with an abstract method sound(). Create two derived classes Cow and Sheep that implement the sound() method.**"
      ],
      "metadata": {
        "id": "szPNEtfO_9kt"
      }
    },
    {
      "cell_type": "code",
      "source": [
        "from abc import ABC, abstractmethod\n",
        "\n",
        "class Animal(ABC):\n",
        "  @abstractmethod\n",
        "  def sound(self):\n",
        "    pass\n",
        "\n",
        "class Cow(Animal):\n",
        "  def sound(self):\n",
        "    return(\"Moo!\")\n",
        "\n",
        "class Sheep(Animal):\n",
        "  def sound(self):\n",
        "    return(\"Baa!\")\n",
        "\n",
        "cow=Cow()\n",
        "sheep=Sheep()\n",
        "\n",
        "print(f\"Cow Says:{cow.sound()}\")\n",
        "print(f\"Sheep Says:{sheep.sound()}\")"
      ],
      "metadata": {
        "colab": {
          "base_uri": "https://localhost:8080/"
        },
        "id": "-O6Y0AB1enlN",
        "outputId": "a4919142-85d7-4709-9d01-fd51479262b1"
      },
      "execution_count": null,
      "outputs": [
        {
          "output_type": "stream",
          "name": "stdout",
          "text": [
            "Cow Says:Moo!\n",
            "Sheep Says:Baa!\n"
          ]
        }
      ]
    },
    {
      "cell_type": "markdown",
      "source": [
        "## **17. Create a class Book with attributes title, author, and year_published. Add a method get_book_info() that returns a formatted string with the book's details.**"
      ],
      "metadata": {
        "id": "_H7BKmruABc2"
      }
    },
    {
      "cell_type": "code",
      "source": [
        "class Book:\n",
        "  def __init__(self, title, author, year_published):\n",
        "    self.title=title\n",
        "    self.author=author\n",
        "    self.year_published=year_published\n",
        "\n",
        "  def get_book_info(self):\n",
        "    return f\"Title: {self.title}\\nAuthor: {self.author}\\nYear Published: {self.year_published}\"\n",
        "\n",
        "b1=Book(\"Surrounded By Idiots\", \"Thomas Erikson\", 2014)\n",
        "print(b1.get_book_info())"
      ],
      "metadata": {
        "colab": {
          "base_uri": "https://localhost:8080/"
        },
        "id": "MVaxIM4JfI3M",
        "outputId": "8219a2c0-fc5d-44a3-9f4e-2a3ffbefe1af"
      },
      "execution_count": null,
      "outputs": [
        {
          "output_type": "stream",
          "name": "stdout",
          "text": [
            "Title: Surrounded By Idiots\n",
            "Author: Thomas Erikson\n",
            "Year Published: 2014\n"
          ]
        }
      ]
    },
    {
      "cell_type": "markdown",
      "source": [
        "## **18. Create a class House with attributes address and price. Create a derived class Mansion that adds an attribute number_of_rooms.**"
      ],
      "metadata": {
        "id": "5NFbl7wuAGbd"
      }
    },
    {
      "cell_type": "code",
      "execution_count": 38,
      "metadata": {
        "id": "rw4VXnfh7JVr",
        "colab": {
          "base_uri": "https://localhost:8080/"
        },
        "outputId": "abccb647-45d5-47de-d70c-59da6a6df11d"
      },
      "outputs": [
        {
          "output_type": "stream",
          "name": "stdout",
          "text": [
            "Address:213,JV,BBSR\n",
            "Price:250000\n",
            "Numbers of Rooms:8\n"
          ]
        }
      ],
      "source": [
        "class House:\n",
        "  def __init__(self, address, price):\n",
        "    self.address=address\n",
        "    self.price=price\n",
        "\n",
        "class Mansion(House):\n",
        "  def __init__(self, address, price, number_of_rooms):\n",
        "    super().__init__(address, price)\n",
        "    self.number_of_rooms=number_of_rooms\n",
        "\n",
        "  def get_info(self):\n",
        "    return f\"Address:{self.address}\\nPrice:{self.price}\\nNumbers of Rooms:{self.number_of_rooms}\"\n",
        "m1=Mansion(\"213,JV,BBSR\", 250000, 8)\n",
        "print(m1.get_info())"
      ]
    }
  ]
}